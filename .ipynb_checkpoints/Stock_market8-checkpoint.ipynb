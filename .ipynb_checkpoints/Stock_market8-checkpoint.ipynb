{
 "cells": [
  {
   "cell_type": "code",
   "execution_count": null,
   "metadata": {},
   "outputs": [],
   "source": []
  },
  {
   "cell_type": "code",
   "execution_count": null,
   "metadata": {},
   "outputs": [],
   "source": []
  },
  {
   "cell_type": "code",
   "execution_count": 30,
   "metadata": {},
   "outputs": [],
   "source": [
    "from pandas_datareader import data\n",
    "import datetime"
   ]
  },
  {
   "cell_type": "code",
   "execution_count": 31,
   "metadata": {},
   "outputs": [
    {
     "data": {
      "text/plain": [
       "function"
      ]
     },
     "execution_count": 31,
     "metadata": {},
     "output_type": "execute_result"
    }
   ],
   "source": [
    "type(data.DataReader)"
   ]
  },
  {
   "cell_type": "code",
   "execution_count": 48,
   "metadata": {},
   "outputs": [],
   "source": [
    "#stock symbols are symbols of companies with which they are listed in any stock exchange\n",
    "#for example Apple Inc. is listed as AAPL in New York stock exchange\n",
    "#you can get the data of stocks of the company for each day\n"
   ]
  },
  {
   "cell_type": "code",
   "execution_count": 56,
   "metadata": {},
   "outputs": [
    {
     "data": {
      "text/plain": [
       "pandas.core.frame.DataFrame"
      ]
     },
     "execution_count": 56,
     "metadata": {},
     "output_type": "execute_result"
    }
   ],
   "source": [
    "\n",
    "start=datetime.datetime(2016,3,1)\n",
    "end=datetime.datetime(2016,3,10)\n",
    "type(data.DataReader(name=\"AAPL\",data_source=\"iex\",start=start,end=end))\n",
    "\n"
   ]
  },
  {
   "cell_type": "code",
   "execution_count": 57,
   "metadata": {},
   "outputs": [
    {
     "data": {
      "text/html": [
       "<div>\n",
       "<style scoped>\n",
       "    .dataframe tbody tr th:only-of-type {\n",
       "        vertical-align: middle;\n",
       "    }\n",
       "\n",
       "    .dataframe tbody tr th {\n",
       "        vertical-align: top;\n",
       "    }\n",
       "\n",
       "    .dataframe thead th {\n",
       "        text-align: right;\n",
       "    }\n",
       "</style>\n",
       "<table border=\"1\" class=\"dataframe\">\n",
       "  <thead>\n",
       "    <tr style=\"text-align: right;\">\n",
       "      <th></th>\n",
       "      <th>open</th>\n",
       "      <th>high</th>\n",
       "      <th>low</th>\n",
       "      <th>close</th>\n",
       "      <th>volume</th>\n",
       "    </tr>\n",
       "    <tr>\n",
       "      <th>date</th>\n",
       "      <th></th>\n",
       "      <th></th>\n",
       "      <th></th>\n",
       "      <th></th>\n",
       "      <th></th>\n",
       "    </tr>\n",
       "  </thead>\n",
       "  <tbody>\n",
       "    <tr>\n",
       "      <th>2016-03-01</th>\n",
       "      <td>92.3713</td>\n",
       "      <td>95.3226</td>\n",
       "      <td>92.1537</td>\n",
       "      <td>95.0956</td>\n",
       "      <td>50407147</td>\n",
       "    </tr>\n",
       "    <tr>\n",
       "      <th>2016-03-02</th>\n",
       "      <td>95.0767</td>\n",
       "      <td>95.4362</td>\n",
       "      <td>94.2537</td>\n",
       "      <td>95.3037</td>\n",
       "      <td>33169560</td>\n",
       "    </tr>\n",
       "    <tr>\n",
       "      <th>2016-03-03</th>\n",
       "      <td>95.1429</td>\n",
       "      <td>96.2117</td>\n",
       "      <td>95.0199</td>\n",
       "      <td>96.0132</td>\n",
       "      <td>36955742</td>\n",
       "    </tr>\n",
       "    <tr>\n",
       "      <th>2016-03-04</th>\n",
       "      <td>96.8362</td>\n",
       "      <td>98.1415</td>\n",
       "      <td>95.8902</td>\n",
       "      <td>97.4416</td>\n",
       "      <td>46055100</td>\n",
       "    </tr>\n",
       "    <tr>\n",
       "      <th>2016-03-07</th>\n",
       "      <td>96.8551</td>\n",
       "      <td>97.2713</td>\n",
       "      <td>95.5024</td>\n",
       "      <td>96.3632</td>\n",
       "      <td>35915810</td>\n",
       "    </tr>\n",
       "    <tr>\n",
       "      <th>2016-03-08</th>\n",
       "      <td>95.3321</td>\n",
       "      <td>96.2591</td>\n",
       "      <td>94.9726</td>\n",
       "      <td>95.5686</td>\n",
       "      <td>31561889</td>\n",
       "    </tr>\n",
       "    <tr>\n",
       "      <th>2016-03-09</th>\n",
       "      <td>95.8334</td>\n",
       "      <td>96.0889</td>\n",
       "      <td>94.8497</td>\n",
       "      <td>95.6537</td>\n",
       "      <td>27201683</td>\n",
       "    </tr>\n",
       "    <tr>\n",
       "      <th>2016-03-10</th>\n",
       "      <td>95.9280</td>\n",
       "      <td>96.7132</td>\n",
       "      <td>94.7362</td>\n",
       "      <td>95.7010</td>\n",
       "      <td>33513577</td>\n",
       "    </tr>\n",
       "  </tbody>\n",
       "</table>\n",
       "</div>"
      ],
      "text/plain": [
       "               open     high      low    close    volume\n",
       "date                                                    \n",
       "2016-03-01  92.3713  95.3226  92.1537  95.0956  50407147\n",
       "2016-03-02  95.0767  95.4362  94.2537  95.3037  33169560\n",
       "2016-03-03  95.1429  96.2117  95.0199  96.0132  36955742\n",
       "2016-03-04  96.8362  98.1415  95.8902  97.4416  46055100\n",
       "2016-03-07  96.8551  97.2713  95.5024  96.3632  35915810\n",
       "2016-03-08  95.3321  96.2591  94.9726  95.5686  31561889\n",
       "2016-03-09  95.8334  96.0889  94.8497  95.6537  27201683\n",
       "2016-03-10  95.9280  96.7132  94.7362  95.7010  33513577"
      ]
     },
     "execution_count": 57,
     "metadata": {},
     "output_type": "execute_result"
    }
   ],
   "source": [
    "df=data.DataReader(name=\"AAPL\",data_source=\"iex\",start=start,end=end)\n",
    "df\n"
   ]
  },
  {
   "cell_type": "code",
   "execution_count": 58,
   "metadata": {},
   "outputs": [
    {
     "data": {
      "text/html": [
       "<div>\n",
       "<style scoped>\n",
       "    .dataframe tbody tr th:only-of-type {\n",
       "        vertical-align: middle;\n",
       "    }\n",
       "\n",
       "    .dataframe tbody tr th {\n",
       "        vertical-align: top;\n",
       "    }\n",
       "\n",
       "    .dataframe thead th {\n",
       "        text-align: right;\n",
       "    }\n",
       "</style>\n",
       "<table border=\"1\" class=\"dataframe\">\n",
       "  <thead>\n",
       "    <tr style=\"text-align: right;\">\n",
       "      <th></th>\n",
       "      <th>open</th>\n",
       "      <th>high</th>\n",
       "      <th>low</th>\n",
       "      <th>close</th>\n",
       "      <th>volume</th>\n",
       "    </tr>\n",
       "    <tr>\n",
       "      <th>date</th>\n",
       "      <th></th>\n",
       "      <th></th>\n",
       "      <th></th>\n",
       "      <th></th>\n",
       "      <th></th>\n",
       "    </tr>\n",
       "  </thead>\n",
       "  <tbody>\n",
       "    <tr>\n",
       "      <th>2016-03-01</th>\n",
       "      <td>703.62</td>\n",
       "      <td>718.8100</td>\n",
       "      <td>699.77</td>\n",
       "      <td>718.81</td>\n",
       "      <td>2151419</td>\n",
       "    </tr>\n",
       "    <tr>\n",
       "      <th>2016-03-02</th>\n",
       "      <td>719.00</td>\n",
       "      <td>720.0000</td>\n",
       "      <td>712.00</td>\n",
       "      <td>718.85</td>\n",
       "      <td>1629003</td>\n",
       "    </tr>\n",
       "    <tr>\n",
       "      <th>2016-03-03</th>\n",
       "      <td>718.68</td>\n",
       "      <td>719.4500</td>\n",
       "      <td>706.02</td>\n",
       "      <td>712.42</td>\n",
       "      <td>1957974</td>\n",
       "    </tr>\n",
       "    <tr>\n",
       "      <th>2016-03-04</th>\n",
       "      <td>714.99</td>\n",
       "      <td>716.4900</td>\n",
       "      <td>706.02</td>\n",
       "      <td>710.89</td>\n",
       "      <td>1972077</td>\n",
       "    </tr>\n",
       "    <tr>\n",
       "      <th>2016-03-07</th>\n",
       "      <td>706.90</td>\n",
       "      <td>708.0912</td>\n",
       "      <td>686.90</td>\n",
       "      <td>695.16</td>\n",
       "      <td>2988026</td>\n",
       "    </tr>\n",
       "    <tr>\n",
       "      <th>2016-03-08</th>\n",
       "      <td>688.59</td>\n",
       "      <td>703.7900</td>\n",
       "      <td>685.34</td>\n",
       "      <td>693.97</td>\n",
       "      <td>2076331</td>\n",
       "    </tr>\n",
       "    <tr>\n",
       "      <th>2016-03-09</th>\n",
       "      <td>698.47</td>\n",
       "      <td>705.6800</td>\n",
       "      <td>694.00</td>\n",
       "      <td>705.24</td>\n",
       "      <td>1421515</td>\n",
       "    </tr>\n",
       "    <tr>\n",
       "      <th>2016-03-10</th>\n",
       "      <td>708.12</td>\n",
       "      <td>716.4400</td>\n",
       "      <td>703.36</td>\n",
       "      <td>712.82</td>\n",
       "      <td>2833525</td>\n",
       "    </tr>\n",
       "  </tbody>\n",
       "</table>\n",
       "</div>"
      ],
      "text/plain": [
       "              open      high     low   close   volume\n",
       "date                                                 \n",
       "2016-03-01  703.62  718.8100  699.77  718.81  2151419\n",
       "2016-03-02  719.00  720.0000  712.00  718.85  1629003\n",
       "2016-03-03  718.68  719.4500  706.02  712.42  1957974\n",
       "2016-03-04  714.99  716.4900  706.02  710.89  1972077\n",
       "2016-03-07  706.90  708.0912  686.90  695.16  2988026\n",
       "2016-03-08  688.59  703.7900  685.34  693.97  2076331\n",
       "2016-03-09  698.47  705.6800  694.00  705.24  1421515\n",
       "2016-03-10  708.12  716.4400  703.36  712.82  2833525"
      ]
     },
     "execution_count": 58,
     "metadata": {},
     "output_type": "execute_result"
    }
   ],
   "source": [
    "df=data.DataReader(name=\"GOOG\",data_source=\"iex\",start=start,end=end)\n",
    "df\n"
   ]
  },
  {
   "cell_type": "code",
   "execution_count": null,
   "metadata": {},
   "outputs": [],
   "source": []
  }
 ],
 "metadata": {
  "kernelspec": {
   "display_name": "Python 3",
   "language": "python",
   "name": "python3"
  },
  "language_info": {
   "codemirror_mode": {
    "name": "ipython",
    "version": 3
   },
   "file_extension": ".py",
   "mimetype": "text/x-python",
   "name": "python",
   "nbconvert_exporter": "python",
   "pygments_lexer": "ipython3",
   "version": "3.7.3"
  }
 },
 "nbformat": 4,
 "nbformat_minor": 2
}
